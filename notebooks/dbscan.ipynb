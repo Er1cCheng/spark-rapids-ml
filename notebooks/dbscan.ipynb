{
 "cells": [
  {
   "cell_type": "markdown",
   "metadata": {},
   "source": [
    "# DBSCAN"
   ]
  },
  {
   "cell_type": "code",
   "execution_count": 1,
   "metadata": {
    "application/vnd.databricks.v1+cell": {
     "cellMetadata": {},
     "inputWidgets": {},
     "nuid": "a7c21330-7326-4d98-9351-d1b2e4c6143c",
     "showTitle": false,
     "title": ""
    }
   },
   "outputs": [],
   "source": [
    "import numpy as np\n",
    "import pandas as pd\n",
    "import time"
   ]
  },
  {
   "cell_type": "markdown",
   "metadata": {},
   "source": [
    "### Create synthetic dataset"
   ]
  },
  {
   "cell_type": "code",
   "execution_count": 2,
   "metadata": {
    "application/vnd.databricks.v1+cell": {
     "cellMetadata": {},
     "inputWidgets": {},
     "nuid": "291da378-0e9b-4b53-bf9e-b78c35631f1d",
     "showTitle": false,
     "title": ""
    }
   },
   "outputs": [],
   "source": [
    "n_rows = 10000\n",
    "n_cols = 500\n",
    "n_clusters_data = 10\n",
    "cluster_std = 1.0\n",
    "dtype='float32'\n",
    "from sklearn.datasets import make_blobs\n",
    "data, _ = make_blobs(\n",
    "        n_samples=n_rows, n_features=n_cols, centers=n_clusters_data, cluster_std=cluster_std, random_state=0\n",
    "    )  # make_blobs creates a random dataset of isotropic gaussian blobs.\n",
    "\n",
    "data = data.astype(dtype)"
   ]
  },
  {
   "cell_type": "markdown",
   "metadata": {
    "application/vnd.databricks.v1+cell": {
     "cellMetadata": {},
     "inputWidgets": {},
     "nuid": "a9ae1eaf-a6d7-467d-88c0-644ae814c488",
     "showTitle": false,
     "title": ""
    }
   },
   "source": [
    "### Convert dataset to Spark DataFrame"
   ]
  },
  {
   "cell_type": "code",
   "execution_count": 3,
   "metadata": {
    "application/vnd.databricks.v1+cell": {
     "cellMetadata": {},
     "inputWidgets": {},
     "nuid": "a9ae1eaf-a6d7-467d-88c0-644ae814c488",
     "showTitle": false,
     "title": ""
    }
   },
   "outputs": [],
   "source": [
    "pd_data = pd.DataFrame({\"features\": list(data)})\n",
    "df = spark.createDataFrame(pd_data)"
   ]
  },
  {
   "cell_type": "markdown",
   "metadata": {
    "application/vnd.databricks.v1+cell": {
     "cellMetadata": {},
     "inputWidgets": {},
     "nuid": "90b36ddc-2f90-409b-a213-3f319c736134",
     "showTitle": false,
     "title": ""
    }
   },
   "source": [
    "## Spark RAPIDS ML DBSCAN (GPU)"
   ]
  },
  {
   "cell_type": "code",
   "execution_count": 4,
   "metadata": {
    "application/vnd.databricks.v1+cell": {
     "cellMetadata": {},
     "inputWidgets": {},
     "nuid": "f1f994f0-4ca6-4b63-88f7-b0ac94ee3130",
     "showTitle": false,
     "title": ""
    }
   },
   "outputs": [],
   "source": [
    "from spark_rapids_ml.dbscan import DBSCAN\n",
    "gpu_dbscan = DBSCAN(eps=50.0, min_samples=3).setFeaturesCol(\"features\")"
   ]
  },
  {
   "cell_type": "markdown",
   "metadata": {
    "application/vnd.databricks.v1+cell": {
     "cellMetadata": {},
     "inputWidgets": {},
     "nuid": "a5a2cac5-18cd-450a-8571-195be588a361",
     "showTitle": false,
     "title": ""
    }
   },
   "source": [
    "Estimator can be persisted and reloaded."
   ]
  },
  {
   "cell_type": "code",
   "execution_count": 5,
   "metadata": {},
   "outputs": [],
   "source": [
    "estimator_path = \"/tmp/dbscan-estimator\""
   ]
  },
  {
   "cell_type": "code",
   "execution_count": 6,
   "metadata": {
    "application/vnd.databricks.v1+cell": {
     "cellMetadata": {},
     "inputWidgets": {},
     "nuid": "798f5b5b-cfa6-45e4-aa18-40c0142e894a",
     "showTitle": false,
     "title": ""
    }
   },
   "outputs": [
    {
     "name": "stderr",
     "output_type": "stream",
     "text": [
      "                                                                                \r"
     ]
    }
   ],
   "source": [
    "gpu_dbscan.write().overwrite().save(estimator_path)\n",
    "gpu_dbscan_loaded = DBSCAN.load(estimator_path)"
   ]
  },
  {
   "cell_type": "markdown",
   "metadata": {},
   "source": [
    "### Fit"
   ]
  },
  {
   "cell_type": "code",
   "execution_count": 7,
   "metadata": {
    "application/vnd.databricks.v1+cell": {
     "cellMetadata": {},
     "inputWidgets": {},
     "nuid": "209d8f9c-1d1c-4bdd-880c-10e46f9d0c49",
     "showTitle": false,
     "title": ""
    }
   },
   "outputs": [
    {
     "name": "stderr",
     "output_type": "stream",
     "text": [
      "24/04/02 18:48:37 WARN TaskSetManager: Stage 2 contains a task of very large size (1734 KiB). The maximum recommended task size is 1000 KiB.\n"
     ]
    },
    {
     "name": "stdout",
     "output_type": "stream",
     "text": [
      "Fit took: 1.487236499786377 sec\n"
     ]
    }
   ],
   "source": [
    "start_time = time.time()\n",
    "gpu_model = gpu_dbscan_loaded.fit(df)\n",
    "print(f\"Fit took: {time.time() - start_time} sec\")"
   ]
  },
  {
   "cell_type": "code",
   "execution_count": 8,
   "metadata": {
    "application/vnd.databricks.v1+cell": {
     "cellMetadata": {},
     "inputWidgets": {},
     "nuid": "77499eff-5cf2-4ce6-95a1-e45b69abe3cd",
     "showTitle": false,
     "title": ""
    }
   },
   "outputs": [
    {
     "data": {
      "text/plain": [
       "50.0"
      ]
     },
     "execution_count": 8,
     "metadata": {},
     "output_type": "execute_result"
    }
   ],
   "source": [
    "gpu_dbscan_loaded.getEps()"
   ]
  },
  {
   "cell_type": "markdown",
   "metadata": {},
   "source": [
    "### Transform"
   ]
  },
  {
   "cell_type": "code",
   "execution_count": 9,
   "metadata": {},
   "outputs": [],
   "source": [
    "model_path = \"/tmp/dbscan-model\""
   ]
  },
  {
   "cell_type": "code",
   "execution_count": 10,
   "metadata": {
    "application/vnd.databricks.v1+cell": {
     "cellMetadata": {},
     "inputWidgets": {},
     "nuid": "6874b600-707d-48a7-b780-5d4e939a746b",
     "showTitle": false,
     "title": ""
    }
   },
   "outputs": [],
   "source": [
    "gpu_model.write().overwrite().save(model_path)"
   ]
  },
  {
   "cell_type": "code",
   "execution_count": 11,
   "metadata": {
    "application/vnd.databricks.v1+cell": {
     "cellMetadata": {},
     "inputWidgets": {},
     "nuid": "441c8635-9070-426f-8626-7083f34b7e71",
     "showTitle": false,
     "title": ""
    }
   },
   "outputs": [],
   "source": [
    "gpu_model_loaded = gpu_model.read().load(model_path)"
   ]
  },
  {
   "cell_type": "code",
   "execution_count": 12,
   "metadata": {
    "application/vnd.databricks.v1+cell": {
     "cellMetadata": {},
     "inputWidgets": {},
     "nuid": "c3bfc179-e702-4198-8122-3a8ba98113a4",
     "showTitle": false,
     "title": ""
    }
   },
   "outputs": [
    {
     "name": "stderr",
     "output_type": "stream",
     "text": [
      "24/04/02 18:48:39 WARN TaskSetManager: Stage 7 contains a task of very large size (1734 KiB). The maximum recommended task size is 1000 KiB.\n",
      "24/04/02 18:48:39 WARN TaskSetManager: Stage 8 contains a task of very large size (1734 KiB). The maximum recommended task size is 1000 KiB.\n",
      "2024-04-02 18:48:43,538 - spark_rapids_ml.dbscan.DBSCANModel - INFO - Loading data into python worker memory\n",
      "2024-04-02 18:48:43,579 - spark_rapids_ml.dbscan.DBSCANModel - INFO - Initializing cuml context\n",
      "2024-04-02 18:48:45,756 - spark_rapids_ml.dbscan.DBSCANModel - INFO - Invoking cuml fit\n",
      "2024-04-02 18:48:45,980 - spark_rapids_ml.dbscan.DBSCANModel - INFO - Cuml fit complete\n",
      "                                                                                \r"
     ]
    }
   ],
   "source": [
    "transformed_df = gpu_model_loaded.setPredictionCol(\"transformed\").transform(df)"
   ]
  },
  {
   "cell_type": "code",
   "execution_count": 13,
   "metadata": {
    "application/vnd.databricks.v1+cell": {
     "cellMetadata": {},
     "inputWidgets": {},
     "nuid": "de0ce32d-3d09-4e82-b6a7-26978925181a",
     "showTitle": false,
     "title": ""
    }
   },
   "outputs": [
    {
     "name": "stdout",
     "output_type": "stream",
     "text": [
      "root\n",
      " |-- features: array (nullable = true)\n",
      " |    |-- element: float (containsNull = true)\n",
      " |-- transformed: long (nullable = true)\n",
      "\n"
     ]
    }
   ],
   "source": [
    "transformed_df.printSchema()"
   ]
  },
  {
   "cell_type": "code",
   "execution_count": 14,
   "metadata": {
    "application/vnd.databricks.v1+cell": {
     "cellMetadata": {},
     "inputWidgets": {},
     "nuid": "0c63b707-0e00-4961-8a76-82f347886b83",
     "showTitle": false,
     "title": ""
    }
   },
   "outputs": [
    {
     "data": {
      "text/plain": [
       "10000"
      ]
     },
     "execution_count": 14,
     "metadata": {},
     "output_type": "execute_result"
    }
   ],
   "source": [
    "transformed_df.count()"
   ]
  },
  {
   "cell_type": "code",
   "execution_count": 15,
   "metadata": {
    "application/vnd.databricks.v1+cell": {
     "cellMetadata": {},
     "inputWidgets": {},
     "nuid": "a7c5d3b5-ecb0-435a-8976-bc18a28e3e04",
     "showTitle": false,
     "title": ""
    }
   },
   "outputs": [
    {
     "name": "stderr",
     "output_type": "stream",
     "text": [
      "24/04/02 18:48:47 WARN TaskSetManager: Stage 20 contains a task of very large size (1734 KiB). The maximum recommended task size is 1000 KiB.\n"
     ]
    },
    {
     "name": "stdout",
     "output_type": "stream",
     "text": [
      "+--------------------+-----------+\n",
      "|            features|transformed|\n",
      "+--------------------+-----------+\n",
      "|[-4.5395985, -2.8...|          8|\n",
      "|[1.5987521, -11.0...|          9|\n",
      "|[8.420858, -0.463...|          7|\n",
      "|[1.8443346, 3.242...|          6|\n",
      "|[1.2457993, 5.358...|          6|\n",
      "|[2.4375074, -1.37...|          2|\n",
      "|[-2.8402522, 7.79...|          5|\n",
      "|[-1.5907966, 6.31...|          4|\n",
      "|[-1.0504782, 5.61...|          4|\n",
      "|[7.0262156, -5.74...|          1|\n",
      "+--------------------+-----------+\n",
      "only showing top 10 rows\n",
      "\n"
     ]
    }
   ],
   "source": [
    "transformed_df.show(10)"
   ]
  },
  {
   "cell_type": "markdown",
   "metadata": {},
   "source": [
    "## Compare DBSCAN vs KMeans"
   ]
  },
  {
   "cell_type": "markdown",
   "metadata": {},
   "source": [
    "### Create Ring Shape Dataset"
   ]
  },
  {
   "cell_type": "code",
   "execution_count": 16,
   "metadata": {},
   "outputs": [],
   "source": [
    "def generate_random_points_in_ring(center, inner_radius, outer_radius, num_points):\n",
    "    # Generate random angles\n",
    "    angles = np.random.uniform(0, 2 * np.pi, num_points)\n",
    "\n",
    "    # Generate random radii within the ring\n",
    "    radii = np.sqrt(np.random.uniform(inner_radius**2, outer_radius**2, num_points))\n",
    "\n",
    "    # Convert polar coordinates to Cartesian coordinates\n",
    "    x = center[0] + radii * np.cos(angles)\n",
    "    y = center[1] + radii * np.sin(angles)\n",
    "\n",
    "    # Create array of points\n",
    "    points = np.column_stack((x, y))\n",
    "\n",
    "    return points\n",
    "\n",
    "data_inner = generate_random_points_in_ring((0,0), 1, 2, 500)\n",
    "data_outer = generate_random_points_in_ring((0,0), 4, 5, 500)\n",
    "data = np.concatenate((data_inner, data_outer), axis=0)\n",
    "np.random.shuffle(data)\n",
    "\n",
    "pd_data = pd.DataFrame({\"features\": list(data)})\n",
    "df = spark.createDataFrame(pd_data)"
   ]
  },
  {
   "cell_type": "markdown",
   "metadata": {},
   "source": [
    "### Run DBSCAN"
   ]
  },
  {
   "cell_type": "code",
   "execution_count": 17,
   "metadata": {},
   "outputs": [
    {
     "name": "stderr",
     "output_type": "stream",
     "text": [
      "2024-04-02 18:48:47,906 - spark_rapids_ml.dbscan.DBSCANModel - INFO - Loading data into python worker memory\n",
      "2024-04-02 18:48:47,908 - spark_rapids_ml.dbscan.DBSCANModel - INFO - Initializing cuml context\n",
      "2024-04-02 18:48:49,082 - spark_rapids_ml.dbscan.DBSCANModel - INFO - Invoking cuml fit\n",
      "2024-04-02 18:48:49,086 - spark_rapids_ml.dbscan.DBSCANModel - INFO - Cuml fit complete\n",
      "                                                                                \r"
     ]
    }
   ],
   "source": [
    "dbscan = DBSCAN(eps=1.0, min_samples=5).setFeaturesCol(\"features\")\n",
    "dbscan_model = dbscan.fit(df)\n",
    "dbscan_transformed = dbscan_model.transform(df)\n",
    "\n",
    "dbscan_pd = dbscan_transformed.toPandas()\n",
    "dbscan_np = dbscan_pd.to_numpy()"
   ]
  },
  {
   "cell_type": "markdown",
   "metadata": {},
   "source": [
    "### Run KMeans"
   ]
  },
  {
   "cell_type": "code",
   "execution_count": 18,
   "metadata": {},
   "outputs": [
    {
     "name": "stderr",
     "output_type": "stream",
     "text": [
      "2024-04-02 18:48:49,900 - spark_rapids_ml.clustering.KMeans - INFO - Stage-level scheduling in spark-rapids-ml requires spark standalone or local-cluster mode\n",
      "2024-04-02 18:48:49,902 - spark_rapids_ml.clustering.KMeans - INFO - Training spark-rapids-ml with 1 worker(s) ...\n",
      "2024-04-02 18:48:50,009 - spark_rapids_ml.clustering.KMeans - INFO - Loading data into python worker memory\n",
      "2024-04-02 18:48:50,011 - spark_rapids_ml.clustering.KMeans - INFO - Initializing cuml context\n",
      "2024-04-02 18:48:51,092 - spark_rapids_ml.clustering.KMeans - INFO - Invoking cuml fit\n",
      "2000\n",
      "2024-04-02 18:48:51,388 - spark_rapids_ml.clustering.KMeans - INFO - iterations: 10, inertia: 0.0\n",
      "2024-04-02 18:48:51,390 - spark_rapids_ml.clustering.KMeans - INFO - Cuml fit complete\n",
      "2024-04-02 18:48:52,579 - spark_rapids_ml.clustering.KMeans - INFO - Finished training\n",
      "                                                                                \r"
     ]
    }
   ],
   "source": [
    "from spark_rapids_ml.clustering import KMeans\n",
    "kmeans =  KMeans(k=2).setFeaturesCol(\"features\")\n",
    "kmeans_model = kmeans.fit(df)\n",
    "kmeans_transformed = kmeans_model.transform(df)\n",
    "\n",
    "kmeans_pd = kmeans_transformed.toPandas()\n",
    "kmeans_np = kmeans_pd.to_numpy()"
   ]
  },
  {
   "cell_type": "markdown",
   "metadata": {},
   "source": [
    "### Compare Clustering Result"
   ]
  },
  {
   "cell_type": "code",
   "execution_count": 19,
   "metadata": {},
   "outputs": [
    {
     "data": {
      "image/png": "[encoded data removed]",
      "text/plain": [
       "<Figure size 640x480 with 1 Axes>"
      ]
     },
     "metadata": {},
     "output_type": "display_data"
    }
   ],
   "source": [
    "import matplotlib.pyplot as plt\n",
    "\n",
    "cluster0 = []\n",
    "cluster1 = []\n",
    "for p in kmeans_np:\n",
    "    if (p[1] == 0):\n",
    "        cluster0.append(p[0])\n",
    "    else:\n",
    "        cluster1.append(p[0])\n",
    "\n",
    "cluster0 = np.array(cluster0)\n",
    "cluster1 = np.array(cluster1)\n",
    "        \n",
    "plt.scatter(cluster0[:, 0], cluster0[:, 1], s=5, label=\"cluster 0\")\n",
    "plt.scatter(cluster1[:, 0], cluster1[:, 1], s=5, label=\"cluster 1\")\n",
    "    \n",
    "plt.xlabel('X')\n",
    "plt.ylabel('Y')\n",
    "plt.title('KMeans Clustering Result')\n",
    "plt.legend()\n",
    "plt.grid(True)\n",
    "plt.show()"
   ]
  },
  {
   "cell_type": "code",
   "execution_count": 20,
   "metadata": {},
   "outputs": [
    {
     "data": {
      "image/png": "[encoded data removed]",
      "text/plain": [
       "<Figure size 640x480 with 1 Axes>"
      ]
     },
     "metadata": {},
     "output_type": "display_data"
    }
   ],
   "source": [
    "cluster0 = []\n",
    "cluster1 = []\n",
    "for p in dbscan_np:\n",
    "    if (p[1] == 0):\n",
    "        cluster0.append(p[0])\n",
    "    else:\n",
    "        cluster1.append(p[0])\n",
    "\n",
    "cluster0 = np.array(cluster0)\n",
    "cluster1 = np.array(cluster1)\n",
    "        \n",
    "plt.scatter(cluster0[:, 0], cluster0[:, 1], s=5, label=\"cluster 0\")\n",
    "plt.scatter(cluster1[:, 0], cluster1[:, 1], s=5, label=\"cluster 1\")\n",
    "    \n",
    "plt.xlabel('X')\n",
    "plt.ylabel('Y')\n",
    "plt.title('DBSCAN Clustering Result')\n",
    "plt.legend()\n",
    "plt.grid(True)\n",
    "plt.show()"
   ]
  }
 ],
 "metadata": {
  "application/vnd.databricks.v1+notebook": {
   "dashboards": [],
   "language": "python",
   "notebookMetadata": {
    "pythonIndentUnit": 4
   },
   "notebookName": "spark-rapids-ml-kmeans-demo",
   "notebookOrigID": 1026070411409745,
   "widgets": {}
  },
  "kernelspec": {
   "display_name": "Python 3 (ipykernel)",
   "language": "python",
   "name": "python3"
  },
  "language_info": {
   "codemirror_mode": {
    "name": "ipython",
    "version": 3
   },
   "file_extension": ".py",
   "mimetype": "text/x-python",
   "name": "python",
   "nbconvert_exporter": "python",
   "pygments_lexer": "ipython3",
   "version": "3.10.14"
  },
  "vscode": {
   "interpreter": {
    "hash": "e7370f93d1d0cde622a1f8e1c04877d8463912d04d973331ad4851f04de6915a"
   }
  }
 },
 "nbformat": 4,
 "nbformat_minor": 4
}
